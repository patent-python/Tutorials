{
  "nbformat": 4,
  "nbformat_minor": 0,
  "metadata": {
    "colab": {
      "name": "Patent_Data-POS_Tagging-1.ipynb",
      "provenance": [],
      "authorship_tag": "ABX9TyPu9g7gygGM57yPSxJCLk03",
      "include_colab_link": true
    },
    "kernelspec": {
      "name": "python3",
      "display_name": "Python 3"
    },
    "language_info": {
      "name": "python"
    }
  },
  "cells": [
    {
      "cell_type": "markdown",
      "metadata": {
        "id": "view-in-github",
        "colab_type": "text"
      },
      "source": [
        "<a href=\"https://colab.research.google.com/github/patent-python/Tutorials/blob/main/Patent_Data_POS_Tagging_1.ipynb\" target=\"_parent\"><img src=\"https://colab.research.google.com/assets/colab-badge.svg\" alt=\"Open In Colab\"/></a>"
      ]
    },
    {
      "cell_type": "markdown",
      "metadata": {
        "id": "tFi-oWCW-yUs"
      },
      "source": [
        "First step is to import Pandas which will help us get our data in the program. "
      ]
    },
    {
      "cell_type": "code",
      "metadata": {
        "id": "1IY2T1Ak1h8I"
      },
      "source": [
        "import pandas as pd"
      ],
      "execution_count": 1,
      "outputs": []
    },
    {
      "cell_type": "markdown",
      "metadata": {
        "id": "5h4wWvsS-_nU"
      },
      "source": [
        "Second step is to import the file where we have the dataset. After running the next command, you will get an option of selecting the file needed"
      ]
    },
    {
      "cell_type": "code",
      "metadata": {
        "id": "H9beN2vm-7Fo",
        "colab": {
          "resources": {
            "http://localhost:8080/nbextensions/google.colab/files.js": {
              "data": "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",
              "ok": true,
              "headers": [
                [
                  "content-type",
                  "application/javascript"
                ]
              ],
              "status": 200,
              "status_text": ""
            }
          },
          "base_uri": "https://localhost:8080/",
          "height": 73
        },
        "outputId": "7aa55c7b-8c5f-4ca1-c875-6196c6c779c0"
      },
      "source": [
        "from google.colab import files\n",
        "uploaded = files.upload()"
      ],
      "execution_count": 2,
      "outputs": [
        {
          "output_type": "display_data",
          "data": {
            "text/html": [
              "\n",
              "     <input type=\"file\" id=\"files-bdb7f254-d82e-42d3-bf4c-fd6fd72ce16c\" name=\"files[]\" multiple disabled\n",
              "        style=\"border:none\" />\n",
              "     <output id=\"result-bdb7f254-d82e-42d3-bf4c-fd6fd72ce16c\">\n",
              "      Upload widget is only available when the cell has been executed in the\n",
              "      current browser session. Please rerun this cell to enable.\n",
              "      </output>\n",
              "      <script src=\"/nbextensions/google.colab/files.js\"></script> "
            ],
            "text/plain": [
              "<IPython.core.display.HTML object>"
            ]
          },
          "metadata": {
            "tags": []
          }
        },
        {
          "output_type": "stream",
          "text": [
            "Saving Set1.xls to Set1.xls\n"
          ],
          "name": "stdout"
        }
      ]
    },
    {
      "cell_type": "markdown",
      "metadata": {
        "id": "PFBVeo-x_Lrm"
      },
      "source": [
        "Once the file is uploaded above, the next command specifies the file name and converts the dataset into a pandas Dataframe, which can be manipulated by the program"
      ]
    },
    {
      "cell_type": "code",
      "metadata": {
        "id": "AWiLDB3p_DTF"
      },
      "source": [
        "import io\n",
        "df2 = pd.read_excel(io.BytesIO(uploaded['Set1.xls']))"
      ],
      "execution_count": 3,
      "outputs": []
    },
    {
      "cell_type": "markdown",
      "metadata": {
        "id": "vJ9PAhzY-nil"
      },
      "source": [
        "The dataset will be saved as a Pandas Dataframe. In the next line of code, we can print this dataframe to preview it and see if it is in order."
      ]
    },
    {
      "cell_type": "code",
      "metadata": {
        "colab": {
          "base_uri": "https://localhost:8080/"
        },
        "id": "bdxYMt18ApIp",
        "outputId": "da1ea213-b4fb-4847-b42a-294b48351ae0"
      },
      "source": [
        "print(df2)"
      ],
      "execution_count": 4,
      "outputs": [
        {
          "output_type": "stream",
          "text": [
            "     #  ...                                           Abstract\n",
            "0    1  ...  An electric system is disclosed. The electric ...\n",
            "1    2  ...  The present disclosure discloses a charging de...\n",
            "2    3  ...  A charge/discharge control method for a batter...\n",
            "3    4  ...  An uninterruptible power supply includes a swi...\n",
            "4    5  ...  A system and method for hierarchical arc fault...\n",
            "5    6  ...  Methods and apparatus for controlling charge c...\n",
            "6    7  ...  A circuit provides for regulating charge and d...\n",
            "7    8  ...  A power bank has a station and a plurality of ...\n",
            "8    9  ...  A device and method are provided for saving po...\n",
            "9   10  ...  A battery system for a vehicle includes: a bat...\n",
            "10  11  ...  A cell for an electrical energy store is provi...\n",
            "11  12  ...  Provided is a nonaqueous electrolyte battery s...\n",
            "12  13  ...  A battery case includes a first cell accommoda...\n",
            "13  14  ...  An electrochemical pouch cell includes a pouch...\n",
            "14  15  ...  The present invention relates to a rechargeabl...\n",
            "15  16  ...  Disclosed is a method for manufacturing a batt...\n",
            "16  17  ...  An energy storage system for a motor vehicle i...\n",
            "17  18  ...  A thermal interface member may comprise a subs...\n",
            "18  19  ...  An energy storage container and a heat dissipa...\n",
            "19  20  ...  The present disclosure provides a battery heat...\n",
            "20  21  ...  A method for operating a battery of an at leas...\n",
            "21  22  ...  Provided are temperature monitoring apparatus ...\n",
            "22  23  ...  The invention relates to a method for operatin...\n",
            "23  24  ...  A system for supplying power to a portable bat...\n",
            "24  25  ...  A vehicle includes a traction battery having c...\n",
            "25  26  ...  An electrochemical cell has a flexible low-pro...\n",
            "26  27  ...  A control module is arranged side by side with...\n",
            "27  28  ...  A battery pack (10) is a battery pack that is ...\n",
            "28  29  ...  A solid state battery (10) including a stack o...\n",
            "29  30  ...  A battery includes first and second power gene...\n",
            "\n",
            "[30 rows x 4 columns]\n"
          ],
          "name": "stdout"
        }
      ]
    },
    {
      "cell_type": "markdown",
      "metadata": {
        "id": "UYXLuZYFKs5B"
      },
      "source": [
        "Notice that the left side gives numbers for rows and the top columns have the same names as the excel file. The first row is 0 and the last row is 29 making it 30 rows in total and 4 columns. We can select a single cell by specifying its row and column. Lets select the cell on the 10th row (number 9) under the column Abstract"
      ]
    },
    {
      "cell_type": "code",
      "metadata": {
        "colab": {
          "base_uri": "https://localhost:8080/",
          "height": 90
        },
        "id": "MOjo7BpNGBRX",
        "outputId": "efcf8608-38db-425c-cc43-5ede3e577792"
      },
      "source": [
        "df2.iloc[9]['Abstract']\n"
      ],
      "execution_count": 5,
      "outputs": [
        {
          "output_type": "execute_result",
          "data": {
            "application/vnd.google.colaboratory.intrinsic+json": {
              "type": "string"
            },
            "text/plain": [
              "'A battery system for a\\xa0vehicle\\xa0includes: a battery module including a plurality of secondary battery cells; a gas sensor; and a housing accommodating the battery module and the gas sensor. At least a portion of an exterior surface of the battery module and/or at least a portion of an interior surface of the housing is covered by a coating. The coating is configured to emit a gaseous species when a temperature exceeds a reference temperature, and the gas sensor is configured to detect the gaseous species.'"
            ]
          },
          "metadata": {
            "tags": []
          },
          "execution_count": 5
        }
      ]
    },
    {
      "cell_type": "markdown",
      "metadata": {
        "id": "tjTlzOqQLg3W"
      },
      "source": [
        "Now for the final step, we will break this text from the Abstract into noun phrases using Textblob.\n",
        "\n",
        "For this, we have to import Textblob and NLTK"
      ]
    },
    {
      "cell_type": "code",
      "metadata": {
        "id": "d2VWDBE9Vgj4",
        "colab": {
          "base_uri": "https://localhost:8080/"
        },
        "outputId": "a3a03d0a-3682-436d-d7d5-26ee7f350dac"
      },
      "source": [
        "from textblob import TextBlob\n",
        "import nltk\n",
        "nltk.download('brown')\n",
        "nltk.download('punkt')"
      ],
      "execution_count": 6,
      "outputs": [
        {
          "output_type": "stream",
          "text": [
            "[nltk_data] Downloading package brown to /root/nltk_data...\n",
            "[nltk_data]   Unzipping corpora/brown.zip.\n",
            "[nltk_data] Downloading package punkt to /root/nltk_data...\n",
            "[nltk_data]   Unzipping tokenizers/punkt.zip.\n"
          ],
          "name": "stdout"
        },
        {
          "output_type": "execute_result",
          "data": {
            "text/plain": [
              "True"
            ]
          },
          "metadata": {
            "tags": []
          },
          "execution_count": 6
        }
      ]
    },
    {
      "cell_type": "markdown",
      "metadata": {
        "id": "HRHQMbOHL2n8"
      },
      "source": [
        "We give the cell value above as input to Textblob Noun phrase extractor to get noun phrases from its text"
      ]
    },
    {
      "cell_type": "code",
      "metadata": {
        "colab": {
          "base_uri": "https://localhost:8080/"
        },
        "id": "YumB9PObVj-z",
        "outputId": "84681536-71b6-4709-eb7c-1d3fc5b819d0"
      },
      "source": [
        "TextBlob.np_extractor.extract(df2.iloc[9]['Abstract'])"
      ],
      "execution_count": 7,
      "outputs": [
        {
          "output_type": "execute_result",
          "data": {
            "text/plain": [
              "['battery system',\n",
              " 'battery module',\n",
              " 'secondary battery cells',\n",
              " 'gas sensor',\n",
              " 'battery module',\n",
              " 'gas sensor',\n",
              " 'exterior surface',\n",
              " 'battery module and/or',\n",
              " 'interior surface',\n",
              " 'gaseous species',\n",
              " 'temperature exceeds',\n",
              " 'reference temperature',\n",
              " 'gas sensor',\n",
              " 'gaseous species']"
            ]
          },
          "metadata": {
            "tags": []
          },
          "execution_count": 7
        }
      ]
    },
    {
      "cell_type": "markdown",
      "metadata": {
        "id": "5B7QNuklMOpu"
      },
      "source": [
        "Notice that some phrases are repeated. This duplication can either be removed or even used to count the number of times a phrase appears according to the end use planned for them. "
      ]
    },
    {
      "cell_type": "code",
      "metadata": {
        "id": "lp6WtReMVtVH",
        "colab": {
          "base_uri": "https://localhost:8080/",
          "height": 169
        },
        "outputId": "a927421f-df98-4949-e309-1763e38a3383"
      },
      "source": [
        "b.noun_phrases"
      ],
      "execution_count": 8,
      "outputs": [
        {
          "output_type": "error",
          "ename": "NameError",
          "evalue": "ignored",
          "traceback": [
            "\u001b[0;31m---------------------------------------------------------------------------\u001b[0m",
            "\u001b[0;31mNameError\u001b[0m                                 Traceback (most recent call last)",
            "\u001b[0;32m<ipython-input-8-1ed26771b190>\u001b[0m in \u001b[0;36m<module>\u001b[0;34m()\u001b[0m\n\u001b[0;32m----> 1\u001b[0;31m \u001b[0mb\u001b[0m\u001b[0;34m.\u001b[0m\u001b[0mnoun_phrases\u001b[0m\u001b[0;34m\u001b[0m\u001b[0;34m\u001b[0m\u001b[0m\n\u001b[0m",
            "\u001b[0;31mNameError\u001b[0m: name 'b' is not defined"
          ]
        }
      ]
    },
    {
      "cell_type": "markdown",
      "metadata": {
        "id": "nZtl4wiHMhdx"
      },
      "source": [
        "Let's get these phrases for all the abstracts in our list. For this we could loop this code using a For Loop, and enter the phrases output in a python variable called dictionary. \n",
        "\n",
        "We name this dictionary phrasecollect"
      ]
    },
    {
      "cell_type": "code",
      "metadata": {
        "id": "Gh12gL9PXrui"
      },
      "source": [
        "phrasescollect = dict()"
      ],
      "execution_count": 9,
      "outputs": []
    },
    {
      "cell_type": "code",
      "metadata": {
        "id": "tqvsY-vBW3XQ"
      },
      "source": [
        "for i in range(0, 30):\n",
        "  phrasescollect[i] = TextBlob.np_extractor.extract(df2.iloc[i]['Abstract'])\n",
        "  phrasescollect[i] = list(dict.fromkeys(phrasescollect[i]))"
      ],
      "execution_count": 10,
      "outputs": []
    },
    {
      "cell_type": "markdown",
      "metadata": {
        "id": "OI679kIcNAoZ"
      },
      "source": [
        "For this demo, I have added a line of code to remove the duplicate phrases. This is the second line phrasescollect[i] = list(dict.fromkeys(phrasescollect[i]))"
      ]
    },
    {
      "cell_type": "markdown",
      "metadata": {
        "id": "oOq9EG-ONOyi"
      },
      "source": [
        "Now that we have all the phrases, lets print the dictionary to see the output"
      ]
    },
    {
      "cell_type": "code",
      "metadata": {
        "colab": {
          "base_uri": "https://localhost:8080/"
        },
        "id": "gQumCGB9YCyO",
        "outputId": "51ba33e0-dd72-4bfa-cf80-afc747acd827"
      },
      "source": [
        "phrasescollect"
      ],
      "execution_count": 11,
      "outputs": [
        {
          "output_type": "execute_result",
          "data": {
            "text/plain": [
              "{0: ['electric system',\n",
              "  'electric system comprises',\n",
              "  'battery subassemblies',\n",
              "  'system controller',\n",
              "  'interrupter connects',\n",
              "  'system controller causes',\n",
              "  'electric vehicle'],\n",
              " 1: ['present disclosure discloses',\n",
              "  'power adapter',\n",
              "  'ripple waveform',\n",
              "  'switch unit',\n",
              "  'control signal',\n",
              "  'ripple waveforms',\n",
              "  'central control module',\n",
              "  'voltage and/or'],\n",
              " 2: ['charge/discharge control method',\n",
              "  'charge/discharge controller',\n",
              "  'battery system',\n",
              "  'battery temperature',\n",
              "  'battery temperature sensor',\n",
              "  'intake air temperature',\n",
              "  'intake-air temperature sensor',\n",
              "  'current sensor',\n",
              "  'internal temperature',\n",
              "  'battery module',\n",
              "  'control map',\n",
              "  'electric power',\n",
              "  'charge/discharge control'],\n",
              " 3: ['uninterruptible power',\n",
              "  'energy storage unit',\n",
              "  'conversion unit',\n",
              "  'control unit',\n",
              "  'input power source',\n",
              "  'output power source',\n",
              "  'unit converts',\n",
              "  'power source',\n",
              "  'conversion unit converts'],\n",
              " 4: ['hierarchical arc fault',\n",
              "  'energy storage system',\n",
              "  'battery management system nodes',\n",
              "  'respective electrical measurement values',\n",
              "  'arc faults',\n",
              "  'electrical measurement values'],\n",
              " 5: ['Methods',\n",
              "  'battery pack',\n",
              "  'disparate types',\n",
              "  'battery cells',\n",
              "  'cell type',\n",
              "  'battery cell',\n",
              "  'current limit',\n",
              "  'respective current control circuit'],\n",
              " 6: ['load switch', 'plural modes'],\n",
              " 7: ['power bank',\n",
              "  'battery modules',\n",
              "  'rechargeable batteries',\n",
              "  'external power',\n",
              "  'control circuit',\n",
              "  'electric energy',\n",
              "  'electronic device',\n",
              "  'control circuit transfers',\n",
              "  'total number'],\n",
              " 8: ['external power supplies',\n",
              "  'battery chargers',\n",
              "  'primary circuit',\n",
              "  'secondary circuit',\n",
              "  'cell phone',\n",
              "  'draws power',\n",
              "  'on-board battery',\n",
              "  'control circuit',\n",
              "  'external app program'],\n",
              " 9: ['battery system',\n",
              "  'battery module',\n",
              "  'secondary battery cells',\n",
              "  'gas sensor',\n",
              "  'exterior surface',\n",
              "  'battery module and/or',\n",
              "  'interior surface',\n",
              "  'gaseous species',\n",
              "  'temperature exceeds',\n",
              "  'reference temperature'],\n",
              " 10: ['electrical energy store',\n",
              "  'cell housing',\n",
              "  'outer side',\n",
              "  'current path',\n",
              "  'galvanic separation',\n",
              "  'simple manner'],\n",
              " 11: ['Provided',\n",
              "  'nonaqueous electrolyte battery separator',\n",
              "  'porous film',\n",
              "  'polyolefin resin',\n",
              "  'porous layer',\n",
              "  'II',\n",
              "  'inorganic filler',\n",
              "  'water-soluble polymer',\n",
              "  'general formula',\n",
              "  'water-insoluble polymer',\n",
              "  'basic compound',\n",
              "  'shape stability',\n",
              "  'high temperature condition',\n",
              "  '200° C'],\n",
              " 12: ['battery case',\n",
              "  'battery cells',\n",
              "  'directions parallel',\n",
              "  'circuit board therein',\n",
              "  'partition wall',\n",
              "  'circuit board'],\n",
              " 13: ['electrochemical pouch cell',\n",
              "  'pouch cell housing',\n",
              "  'electrode assembly',\n",
              "  'recess coincides',\n",
              "  'flange portions',\n",
              "  'electrochemical cell',\n",
              "  'progressive drawing process',\n",
              "  'cell housing',\n",
              "  'conventional pouch cell housings'],\n",
              " 14: ['present invention relates',\n",
              "  'rechargeable battery',\n",
              "  'liquid cathode portion',\n",
              "  'current collector',\n",
              "  'anode portion',\n",
              "  'liquid organic electrolyte',\n",
              "  'active material',\n",
              "  'solid electrolyte',\n",
              "  'cathode portion'],\n",
              " 15: ['Disclosed',\n",
              "  'battery module',\n",
              "  'battery cell assembly',\n",
              "  'battery cell',\n",
              "  'module case',\n",
              "  'conductive adhesive',\n",
              "  'injection hole',\n",
              "  'bottom portion'],\n",
              " 16: ['energy storage system',\n",
              "  'motor vehicle',\n",
              "  'electric energy storage device',\n",
              "  'housing-like carrier element',\n",
              "  'energy storage device',\n",
              "  'intermediate space',\n",
              "  'carrier element'],\n",
              " 17: ['thermal interface member',\n",
              "  'conductive layer',\n",
              "  'resistive layer',\n",
              "  'conductive material',\n",
              "  'polymeric matrix phase',\n",
              "  'conductive particles',\n",
              "  'electrical contact',\n",
              "  'resistive material',\n",
              "  'positive resistance temperature coefficient'],\n",
              " 18: ['energy storage container',\n",
              "  'heat dissipation system',\n",
              "  'container body',\n",
              "  'battery module assembly',\n",
              "  'multiple air',\n",
              "  'length direction',\n",
              "  'width direction',\n",
              "  'side ends',\n",
              "  'air return duct',\n",
              "  'partition plate',\n",
              "  'above arrangement'],\n",
              " 19: ['present disclosure',\n",
              "  'battery heat exchange system',\n",
              "  'heat exchange mechanism',\n",
              "  'heat exchange units',\n",
              "  'heat exchange unit',\n",
              "  'corresponding battery module'],\n",
              " 20: ['functional device',\n",
              "  'corresponding battery',\n",
              "  'corresponding functional device',\n",
              "  'control unit',\n",
              "  'measurement signals',\n",
              "  'respective parameter',\n",
              "  'battery cells',\n",
              "  'switchable battery cells',\n",
              "  'distribution function',\n",
              "  'respective cell parameter',\n",
              "  'secondary condition',\n",
              "  'functional device and/or'],\n",
              " 21: ['Provided',\n",
              "  'battery pack',\n",
              "  'slave battery management systems',\n",
              "  'BMSs',\n",
              "  'BMS',\n",
              "  'wake-up time',\n",
              "  'temperature data',\n",
              "  'battery module',\n",
              "  'battery modules'],\n",
              " 22: ['invention relates',\n",
              "  'battery module',\n",
              "  'battery cell',\n",
              "  'method steps',\n",
              "  'target range',\n",
              "  'method step b',\n",
              "  'different battery module and/or',\n",
              "  'different battery cell'],\n",
              " 23: ['portable battery pack',\n",
              "  'replaceable pouch',\n",
              "  'solar panel',\n",
              "  'different colors and/or patterns',\n",
              "  'MOLLE-compatible',\n",
              "  'battery comprises',\n",
              "  'battery element',\n",
              "  'back plate',\n",
              "  'slight curvature'],\n",
              " 24: ['traction battery', 'current values', 'different zone'],\n",
              " 25: ['electrochemical cell',\n",
              "  'flexible low-profile sensor device',\n",
              "  'solid state device',\n",
              "  'solid state devices',\n",
              "  'sense battery cell conditions',\n",
              "  'cell control functions',\n",
              "  'sensor device resides',\n",
              "  'communication network'],\n",
              " 26: ['control module',\n",
              "  'battery module',\n",
              "  'electric load',\n",
              "  'electrical connection',\n",
              "  'current sensor',\n",
              "  'control unit',\n",
              "  'electric signal',\n",
              "  'connection terminal',\n",
              "  'connection portion'],\n",
              " 27: ['battery pack', 'input component', 'voltage measurement component'],\n",
              " 28: ['solid state battery',\n",
              "  'positive electrode',\n",
              "  'negative electrode',\n",
              "  'solid electrolyte',\n",
              "  'current collector',\n",
              "  'ionic conductor',\n",
              "  'normal configuration wherein',\n",
              "  'short-circuit configuration wherein',\n",
              "  'ionic conductivity',\n",
              "  'electronic conductivity'],\n",
              " 29: ['inner layer',\n",
              "  'current collector',\n",
              "  'active material layer',\n",
              "  'outer layers',\n",
              "  'current collector contains',\n",
              "  'outer layer']}"
            ]
          },
          "metadata": {
            "tags": []
          },
          "execution_count": 11
        }
      ]
    },
    {
      "cell_type": "markdown",
      "metadata": {
        "id": "ZaozZgPwLTX8"
      },
      "source": [
        "Now we can add this column with noun phrases to our dataframe so that we can output it later as an excel file"
      ]
    },
    {
      "cell_type": "code",
      "metadata": {
        "id": "SGJVbWKoKDF_"
      },
      "source": [
        "df2[\"phrasescollect\"] = pd.Series(phrasescollect)"
      ],
      "execution_count": 12,
      "outputs": []
    },
    {
      "cell_type": "markdown",
      "metadata": {
        "id": "FlYHfs4KLd4J"
      },
      "source": [
        "You can check if the addition worked by printing the dataframe"
      ]
    },
    {
      "cell_type": "code",
      "metadata": {
        "colab": {
          "base_uri": "https://localhost:8080/"
        },
        "id": "qc-A1ehzKVxw",
        "outputId": "30e0c952-7195-49c5-b085-3b0832f51487"
      },
      "source": [
        "print(df2)"
      ],
      "execution_count": 13,
      "outputs": [
        {
          "output_type": "stream",
          "text": [
            "     #  ...                                     phrasescollect\n",
            "0    1  ...  [electric system, electric system comprises, b...\n",
            "1    2  ...  [present disclosure discloses, power adapter, ...\n",
            "2    3  ...  [charge/discharge control method, charge/disch...\n",
            "3    4  ...  [uninterruptible power, energy storage unit, c...\n",
            "4    5  ...  [hierarchical arc fault, energy storage system...\n",
            "5    6  ...  [Methods, battery pack, disparate types, batte...\n",
            "6    7  ...                        [load switch, plural modes]\n",
            "7    8  ...  [power bank, battery modules, rechargeable bat...\n",
            "8    9  ...  [external power supplies, battery chargers, pr...\n",
            "9   10  ...  [battery system, battery module, secondary bat...\n",
            "10  11  ...  [electrical energy store, cell housing, outer ...\n",
            "11  12  ...  [Provided, nonaqueous electrolyte battery sepa...\n",
            "12  13  ...  [battery case, battery cells, directions paral...\n",
            "13  14  ...  [electrochemical pouch cell, pouch cell housin...\n",
            "14  15  ...  [present invention relates, rechargeable batte...\n",
            "15  16  ...  [Disclosed, battery module, battery cell assem...\n",
            "16  17  ...  [energy storage system, motor vehicle, electri...\n",
            "17  18  ...  [thermal interface member, conductive layer, r...\n",
            "18  19  ...  [energy storage container, heat dissipation sy...\n",
            "19  20  ...  [present disclosure, battery heat exchange sys...\n",
            "20  21  ...  [functional device, corresponding battery, cor...\n",
            "21  22  ...  [Provided, battery pack, slave battery managem...\n",
            "22  23  ...  [invention relates, battery module, battery ce...\n",
            "23  24  ...  [portable battery pack, replaceable pouch, sol...\n",
            "24  25  ...  [traction battery, current values, different z...\n",
            "25  26  ...  [electrochemical cell, flexible low-profile se...\n",
            "26  27  ...  [control module, battery module, electric load...\n",
            "27  28  ...  [battery pack, input component, voltage measur...\n",
            "28  29  ...  [solid state battery, positive electrode, nega...\n",
            "29  30  ...  [inner layer, current collector, active materi...\n",
            "\n",
            "[30 rows x 5 columns]\n"
          ],
          "name": "stdout"
        }
      ]
    },
    {
      "cell_type": "markdown",
      "metadata": {
        "id": "YG0D6QtNLjnq"
      },
      "source": [
        "As a final step, we export the dataframe to an excel file. You can name this differently as compared to the input file to mark this as an output. I am adding OP at end for this."
      ]
    },
    {
      "cell_type": "code",
      "metadata": {
        "colab": {
          "base_uri": "https://localhost:8080/",
          "height": 17
        },
        "id": "JOeRTH4rKrvC",
        "outputId": "c2ceaa62-87da-4e7f-e1cd-4663fd8656d7"
      },
      "source": [
        "from google.colab import files\n",
        "df2.to_excel('Set1OP.xls') \n",
        "files.download('Set1OP.xls')"
      ],
      "execution_count": 16,
      "outputs": [
        {
          "output_type": "display_data",
          "data": {
            "application/javascript": [
              "\n",
              "    async function download(id, filename, size) {\n",
              "      if (!google.colab.kernel.accessAllowed) {\n",
              "        return;\n",
              "      }\n",
              "      const div = document.createElement('div');\n",
              "      const label = document.createElement('label');\n",
              "      label.textContent = `Downloading \"${filename}\": `;\n",
              "      div.appendChild(label);\n",
              "      const progress = document.createElement('progress');\n",
              "      progress.max = size;\n",
              "      div.appendChild(progress);\n",
              "      document.body.appendChild(div);\n",
              "\n",
              "      const buffers = [];\n",
              "      let downloaded = 0;\n",
              "\n",
              "      const channel = await google.colab.kernel.comms.open(id);\n",
              "      // Send a message to notify the kernel that we're ready.\n",
              "      channel.send({})\n",
              "\n",
              "      for await (const message of channel.messages) {\n",
              "        // Send a message to notify the kernel that we're ready.\n",
              "        channel.send({})\n",
              "        if (message.buffers) {\n",
              "          for (const buffer of message.buffers) {\n",
              "            buffers.push(buffer);\n",
              "            downloaded += buffer.byteLength;\n",
              "            progress.value = downloaded;\n",
              "          }\n",
              "        }\n",
              "      }\n",
              "      const blob = new Blob(buffers, {type: 'application/binary'});\n",
              "      const a = document.createElement('a');\n",
              "      a.href = window.URL.createObjectURL(blob);\n",
              "      a.download = filename;\n",
              "      div.appendChild(a);\n",
              "      a.click();\n",
              "      div.remove();\n",
              "    }\n",
              "  "
            ],
            "text/plain": [
              "<IPython.core.display.Javascript object>"
            ]
          },
          "metadata": {
            "tags": []
          }
        },
        {
          "output_type": "display_data",
          "data": {
            "application/javascript": [
              "download(\"download_56e9cd1e-276d-4879-be8d-0cebfca7b9a8\", \"Set1OP.xls\", 38400)"
            ],
            "text/plain": [
              "<IPython.core.display.Javascript object>"
            ]
          },
          "metadata": {
            "tags": []
          }
        }
      ]
    },
    {
      "cell_type": "markdown",
      "metadata": {
        "id": "f6nRdE71L2yR"
      },
      "source": [
        "This line of code should download an excel file for you in your browser, which you can check to see if everything is in order."
      ]
    }
  ]
}